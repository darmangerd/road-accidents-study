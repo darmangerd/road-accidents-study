{
 "cells": [
  {
   "cell_type": "markdown",
   "metadata": {},
   "source": [
    "# Imports"
   ]
  },
  {
   "cell_type": "code",
   "execution_count": null,
   "metadata": {},
   "outputs": [],
   "source": [
    "import pandas as pd\n",
    "import plotly.express as px\n",
    "import geopandas as gpd"
   ]
  },
  {
   "cell_type": "markdown",
   "metadata": {},
   "source": [
    "# Importation des données"
   ]
  },
  {
   "cell_type": "code",
   "execution_count": null,
   "metadata": {},
   "outputs": [],
   "source": [
    "france = pd.read_csv(\"datas/caracteristics_complete.csv\")"
   ]
  },
  {
   "cell_type": "markdown",
   "metadata": {},
   "source": [
    "# Carte de densités des accidents\n",
    "La carte de densité permet d'identifier les zones les plus denses en accidents, ici l'on peut voir un analysant la carte que les zones les plus denses sous bel et bien les grandes villes comme Paris. Et si l'on zoome suffisamment on peut identifier que les zones étant les plus propices aux accidents sont les intersections."
   ]
  },
  {
   "cell_type": "code",
   "execution_count": null,
   "metadata": {},
   "outputs": [],
   "source": [
    "def density_map(df: pd.DataFrame, params: dict = dict()):\n",
    "    \"\"\"\n",
    "    Create a density map (heat map)\n",
    "    \"\"\"\n",
    "    density_params = dict(\n",
    "        lat=\"lat\",\n",
    "        lon=\"long\",\n",
    "        radius=5,\n",
    "        mapbox_style=\"open-street-map\",\n",
    "        zoom=5,\n",
    "        height=1000\n",
    "    )\n",
    "\n",
    "    fig = px.density_mapbox(\n",
    "        df,\n",
    "        **density_params,\n",
    "        **params\n",
    "    )\n",
    "\n",
    "    fig.update_layout(margin={\"r\": 0, \"t\": 0, \"l\": 0, \"b\": 0})\n",
    "    fig.show(renderer=\"notebook\")"
   ]
  },
  {
   "cell_type": "code",
   "execution_count": null,
   "metadata": {},
   "outputs": [],
   "source": [
    "density_map(france)"
   ]
  },
  {
   "cell_type": "markdown",
   "metadata": {},
   "source": [
    "# Carte de tous les accidents\n",
    "Cette carte permet d'identifier individuellement les accidents de notre dataframe, grâce à cette carte on peut identifier les anomalies où les accidents ne se sont pas déroulé en France, mais qui sont pourtant dans notre jeu de données."
   ]
  },
  {
   "cell_type": "code",
   "execution_count": null,
   "metadata": {},
   "outputs": [],
   "source": [
    "def scatter_map(df: pd.DataFrame, params: dict = dict()):\n",
    "    \"\"\"\n",
    "    Create a scatter map (each dot represent an object)\n",
    "    \"\"\"\n",
    "    scatter_params = dict(\n",
    "        lat=\"lat\",\n",
    "        lon=\"long\",\n",
    "        hover_data=[\"an\", \"mois\", \"jour\", \"adr\", \"dep\", \"Num_Acc\", \"cc\", \"name\", \"admin1\", \"admin2\"],\n",
    "        color_discrete_sequence=[\"fuchsia\"],\n",
    "        mapbox_style=\"open-street-map\",\n",
    "        zoom=5,\n",
    "        height=1000\n",
    "    )\n",
    "\n",
    "    fig = px.scatter_mapbox(\n",
    "        df,\n",
    "        **scatter_params,\n",
    "        **params\n",
    "    )\n",
    "\n",
    "    fig.update_layout(margin={\"r\": 0, \"t\": 0, \"l\": 0, \"b\": 0})\n",
    "    fig.show(renderer=\"notebook\")"
   ]
  },
  {
   "cell_type": "code",
   "execution_count": null,
   "metadata": {},
   "outputs": [],
   "source": [
    "scatter_map(france)"
   ]
  },
  {
   "cell_type": "markdown",
   "metadata": {},
   "source": [
    "# Carte des départements\n",
    "Cette représentation est intéressante afin d'isoler les densités d'une certaine quantité par départements. Ici l'on affiche la densité d'accident par département, qui est représenté par une couleur allant du bleu au jaune, respectivement pour une petite et grande densité d'accidents."
   ]
  },
  {
   "cell_type": "code",
   "execution_count": null,
   "metadata": {},
   "outputs": [],
   "source": [
    "def dep_map(df, params=dict()):\n",
    "    \"\"\"\n",
    "    Create a France departement map, with a color that represents a density\n",
    "    \"\"\"\n",
    "    fr = gpd.read_file(\"datas/departements.geojson\")\n",
    "\n",
    "    choropleth_params = dict(\n",
    "        geojson=fr,\n",
    "        locations=\"dep\",\n",
    "        color=\"count\",\n",
    "        mapbox_style=\"carto-positron\",\n",
    "        featureidkey=\"properties.dep\",\n",
    "        zoom=5,\n",
    "        center={\"lat\": 46, \"lon\": 2},\n",
    "        opacity=0.5,\n",
    "        labels={\"value\": \"Nombre d'accidents\"},\n",
    "        height=1000\n",
    "    )\n",
    "\n",
    "    fig = px.choropleth_mapbox(\n",
    "        df,\n",
    "        **choropleth_params,\n",
    "        **params\n",
    "    )\n",
    "\n",
    "    fig.update_layout(margin={\"r\":0,\"t\":0,\"l\":0,\"b\":0})\n",
    "    fig.show(renderer=\"notebook\")"
   ]
  },
  {
   "cell_type": "code",
   "execution_count": null,
   "metadata": {},
   "outputs": [],
   "source": [
    "dep_count = france.dep.value_counts().reset_index()\n",
    "dep_count.columns = [\"dep\", \"count\"]\n",
    "dep_count.dep /= 10\n",
    "\n",
    "dep_map(dep_count)"
   ]
  },
  {
   "cell_type": "markdown",
   "metadata": {},
   "source": [
    "# Fonction créatrice des graphiques d'évolution\n",
    "Il serait maintenant intéressant de représenter une évolution de ces cartes en fonction d'un paramètre, les fonctions suivantes génèrent une map munie d'un slider afin de connaître cette évolution."
   ]
  },
  {
   "cell_type": "code",
   "execution_count": null,
   "metadata": {},
   "outputs": [],
   "source": [
    "def dep_evolution(field: str):\n",
    "    \"\"\"\n",
    "    Create a France departement map, with a variable value that depends on a field\n",
    "    \"\"\"\n",
    "    df_accident_month_dep = france.groupby([field, \"dep\"]).count()[\"Num_Acc\"].reset_index()\n",
    "    df_accident_month_dep.columns = [field, \"dep\", \"count\"]\n",
    "    df_accident_month_dep.dep /= 10\n",
    "    \n",
    "    dep_map(\n",
    "        df_accident_month_dep,\n",
    "        dict(animation_frame=field)\n",
    "    )\n",
    "\n",
    "def scatter_evolution(field: str):\n",
    "    \"\"\"\n",
    "    Create scatter map, with a variable value that depends on a field\n",
    "    \"\"\"\n",
    "    scatter_map(france, dict(animation_frame=field))\n",
    "\n",
    "def density_evolution(field: str):\n",
    "    \"\"\"\n",
    "    Create density map, with a variable value that depends on a field\n",
    "    \"\"\"\n",
    "    density_map(france, dict(animation_frame=field))\n",
    "\n",
    "def pie(df: pd.DataFrame, column: str, title: str = None):\n",
    "    \"\"\"\n",
    "    Create a pie chart from a specific column of a dataframe\n",
    "    \"\"\"\n",
    "    data = df[column].value_counts() / len(df)\n",
    "    \n",
    "    fig = px.pie(\n",
    "        data,\n",
    "        title=column if title == None else title,\n",
    "        values=data,\n",
    "        names=data.index\n",
    "    )\n",
    "\n",
    "    fig.update_traces(textposition=\"inside\", textinfo=\"percent+label\")\n",
    "\n",
    "    return fig.show()"
   ]
  },
  {
   "cell_type": "markdown",
   "metadata": {},
   "source": [
    "# Évolution de la carte en fonction des mois\n",
    "Il est important d'également connaître la répartition des accidents pour chacun des mois, afin de bien interpréter certains graphiques de map, comme la représentation par département qui ne nous permet pas de savoir la répartition des accidents par mois. Cela est moins le cas pour une map de type \"scatter\", car on identifie la répartition des mois en comptant le nombre de points (ce qui se fait de manière plutôt implicite dans notre cerveau). Sur les cartes on peut voir qu’en fonction de mois, la variation des zones où les accidents sont les plus propices est faible. On remarque tout de même, sur la carte représentant la densité des accidents, que lors de l'été il y'a plus d'accidents dans le sud que durant le reste de l'année."
   ]
  },
  {
   "cell_type": "code",
   "execution_count": null,
   "metadata": {},
   "outputs": [],
   "source": [
    "pie(france, \"mois\", \"Répartition des mois\")"
   ]
  },
  {
   "cell_type": "code",
   "execution_count": null,
   "metadata": {},
   "outputs": [],
   "source": [
    "dep_evolution(\"mois\")"
   ]
  },
  {
   "cell_type": "code",
   "execution_count": null,
   "metadata": {},
   "outputs": [],
   "source": [
    "scatter_evolution(\"mois\")"
   ]
  },
  {
   "cell_type": "code",
   "execution_count": null,
   "metadata": {},
   "outputs": [],
   "source": [
    "density_evolution(\"mois\")"
   ]
  },
  {
   "cell_type": "markdown",
   "metadata": {},
   "source": [
    "# Évolution de la carte durant les années\n",
    "Pour les années on voit que la répartition est moins homogène que pour les mois, cela reste tout de même correct, on peut cependant noter qu’entre 2016 et 2006 il y'a une très grande différence du nombre d'accidents auxquels on a accès. On peut aussi voir que nous n'avons pas d'accidents pour 2009. Sur les cartes, on remarque que très peu de changement, car les populations n'ont pas énormément migré, cela aurait pu être le cas si des événements extraordinaires s’étaient produits durant ces années, comme une guerre, un changement de capitale, etc. ça pourrait être également le cas pour un pays en voie de développement."
   ]
  },
  {
   "cell_type": "code",
   "execution_count": null,
   "metadata": {},
   "outputs": [],
   "source": [
    "pie(france, \"an\", \"Répartition des années\")"
   ]
  },
  {
   "cell_type": "code",
   "execution_count": null,
   "metadata": {},
   "outputs": [],
   "source": [
    "dep_evolution(\"an\")"
   ]
  },
  {
   "cell_type": "code",
   "execution_count": null,
   "metadata": {},
   "outputs": [],
   "source": [
    "scatter_evolution(\"an\")"
   ]
  },
  {
   "cell_type": "code",
   "execution_count": null,
   "metadata": {},
   "outputs": [],
   "source": [
    "density_evolution(\"an\")"
   ]
  },
  {
   "cell_type": "markdown",
   "metadata": {},
   "source": [
    "# Carte en fonction des conditions lumineuses\n",
    "La carte affichant les accidents survenus en plein jour n'est pas réellement intéressante, cependant pour ceux qui se sont passés la nuit nous permet d'identifier les zones où l'éclairage n'est pas optimal."
   ]
  },
  {
   "cell_type": "code",
   "execution_count": null,
   "metadata": {},
   "outputs": [],
   "source": [
    "pie(france, \"lum_str\", \"Répartition des conditions lumineuses\")"
   ]
  },
  {
   "cell_type": "code",
   "execution_count": null,
   "metadata": {},
   "outputs": [],
   "source": [
    "density_evolution(\"lum_str\")"
   ]
  },
  {
   "cell_type": "code",
   "execution_count": null,
   "metadata": {},
   "outputs": [],
   "source": [
    "scatter_evolution(\"lum_str\")"
   ]
  }
 ],
 "metadata": {
  "interpreter": {
   "hash": "919eb0904b72c37e8d6c7e3b2f7b6f162c89cafcc297fba09b2d10c79c52f5eb"
  },
  "kernelspec": {
   "display_name": "Python 3.8.8 64-bit ('base': conda)",
   "name": "python3"
  },
  "language_info": {
   "codemirror_mode": {
    "name": "ipython",
    "version": 3
   },
   "file_extension": ".py",
   "mimetype": "text/x-python",
   "name": "python",
   "nbconvert_exporter": "python",
   "pygments_lexer": "ipython3",
   "version": "3.8.12"
  },
  "orig_nbformat": 4
 },
 "nbformat": 4,
 "nbformat_minor": 2
}
