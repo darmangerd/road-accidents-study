{
 "cells": [
  {
   "cell_type": "markdown",
   "metadata": {},
   "source": [
    "# Night Call - Rapport"
   ]
  }
 ],
 "metadata": {
  "interpreter": {
   "hash": "c7de34565e503f1905e740b058ccce7b67d1d295fe32ee7f45ed19cdfc5aaaaa"
  },
  "kernelspec": {
   "display_name": "Python 3.8.5 64-bit ('HE-Arc_Python': conda)",
   "name": "python3"
  },
  "language_info": {
   "codemirror_mode": {
    "name": "ipython",
    "version": 3
   },
   "file_extension": ".py",
   "mimetype": "text/x-python",
   "name": "python",
   "nbconvert_exporter": "python",
   "pygments_lexer": "ipython3",
   "version": "3.8.5"
  },
  "orig_nbformat": 4
 },
 "nbformat": 4,
 "nbformat_minor": 2
}
