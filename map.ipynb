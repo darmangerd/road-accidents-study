{
 "cells": [
  {
   "cell_type": "markdown",
   "metadata": {},
   "source": [
    "# Imports"
   ]
  },
  {
   "cell_type": "code",
   "execution_count": null,
   "metadata": {},
   "outputs": [],
   "source": [
    "import pandas as pd\n",
    "import plotly.express as px\n",
    "import reverse_geocoder as rg\n",
    "import io\n",
    "import geopandas as gpd\n",
    "import datetime"
   ]
  },
  {
   "cell_type": "markdown",
   "metadata": {},
   "source": [
    "# Traitement des données"
   ]
  },
  {
   "cell_type": "code",
   "execution_count": null,
   "metadata": {},
   "outputs": [],
   "source": [
    "france: pd.DataFrame = pd.read_csv(\"datas/caracteristics.csv\", dtype={\"long\": str})\n",
    "\n",
    "france.dropna(subset=[\"lat\", \"long\"], inplace=True)\n",
    "\n",
    "# Restrict our datas to metropolitan France\n",
    "france = france[france.lat != 0]\n",
    "france = france[france.long != 0]\n",
    "france = france[france.long != \"-\"]\n",
    "france = france[france.gps == \"M\"]\n",
    "\n",
    "# Convert the coordinates into readable ones\n",
    "france.long = pd.to_numeric(france.long)\n",
    "france.long = france.long / 100000\n",
    "france.lat = france.lat / 100000\n",
    "\n",
    "france.an += 2000\n",
    "\n",
    "# Create a tuple with the coordinates lat | long => (lat, long)\n",
    "france[\"coordinates\"] = france[[\"lat\", \"long\"]].apply(tuple, axis=1)\n",
    "\n",
    "def extract_time(x):\n",
    "    \"\"\"\n",
    "    Convert the string date from the caracteristics dataset into a datetime instance\n",
    "    \"\"\"\n",
    "    year = x[0]\n",
    "    month = x[1]\n",
    "    day = x[2]\n",
    "    time = str(x[3])\n",
    "    time = time.zfill(4)\n",
    "\n",
    "    hour = str(time)[:1]\n",
    "    minutes = str(time)[2:]\n",
    "\n",
    "    return datetime.datetime(year, month, day, int(hour), int(minutes))\n",
    "france[\"datetime\"] = france[[\"an\", \"mois\", \"jour\", \"hrmn\"]].apply(extract_time, axis=1)\n",
    "\n",
    "def parse_lighting_conditions(x):\n",
    "    \"\"\"\n",
    "    Convert the int lighting conditions from the caracteristics dataset into a nominal variable\n",
    "    \"\"\"\n",
    "    if x == 1:\n",
    "        return \"Full day\"\n",
    "    elif x == 2:\n",
    "        return \"Twilight or dawn\"\n",
    "    elif x == 3:\n",
    "        return \"Night without public lighting\"\n",
    "    elif x == 4:\n",
    "        return \"Night with public lighting not lit\"\n",
    "    elif x == 5:\n",
    "        return \"Night with public lighting on\"\n",
    "france[\"lum_str\"] = france.lum.apply(parse_lighting_conditions)\n",
    "\n",
    "# Sort the dataframe by dates\n",
    "france = france.sort_values([\"datetime\"])\n",
    "france.reset_index(inplace=True)\n",
    "\n",
    "france"
   ]
  },
  {
   "cell_type": "markdown",
   "metadata": {},
   "source": [
    "# Validation de la position d'un accident"
   ]
  },
  {
   "cell_type": "code",
   "execution_count": null,
   "metadata": {},
   "outputs": [],
   "source": [
    "# Verify that all positions are in the France territory\n",
    "france_informations = pd.read_csv(\"datas/rg_france.csv\")\n",
    "france_informations[[\"lat\", \"lon\", \"name\", \"admin1\", \"admin2\", \"cc\"]].to_csv(\"datas/rg_france_min.csv\", index=False)\n",
    "france_informations"
   ]
  },
  {
   "cell_type": "markdown",
   "metadata": {},
   "source": [
    "## Quelles sont les lignes du dataset n'étant pas sur le terrain Français\n",
    "L'output de cette opération renvoi un dataframe vide, cela signifie que tout nos points, même ceux qui ont des coordonées invalides (accidents d'étant passé dans la mer/océan) sont concidéré comme s'étant produit en France. Après avoir utilisé plusieurs méthode afin de retirer ces points, il est manifestement pas possible de le faire simplement. On a alors laissé ce code de validation dans le notebook afin d'avoir une certaine validation des points. Cependant ces accidents ne représentent qu'un minuscule pourcentage du total, il n'est donc pas réellement dérangeant de les concidéré pour nos statistiques, car ils n'auront pratiquement aucun impact."
   ]
  },
  {
   "cell_type": "code",
   "execution_count": null,
   "metadata": {},
   "outputs": [],
   "source": [
    "# Retreive all the rows that are not in France\n",
    "\n",
    "geo = rg.RGeocoder(\n",
    "    mode=2,\n",
    "    verbose=True,\n",
    "    stream=io.StringIO(open(\"datas/rg_france_min.csv\", encoding=\"utf-8\").read())\n",
    ")\n",
    "\n",
    "countries = pd.DataFrame(geo.query(france.coordinates.to_list()))\n",
    "countries.drop([\"lat\", \"lon\"], axis=1, inplace=True)\n",
    "\n",
    "france = pd.concat([france, countries], axis=1)\n",
    "france[france.cc != \"FR\"]"
   ]
  },
  {
   "cell_type": "markdown",
   "metadata": {},
   "source": [
    "# Sauvegarde des caractéristiques post-process"
   ]
  },
  {
   "cell_type": "code",
   "execution_count": null,
   "metadata": {},
   "outputs": [],
   "source": [
    "france.to_csv(\"datas/caracteristics_complete.csv\")"
   ]
  },
  {
   "cell_type": "markdown",
   "metadata": {},
   "source": [
    "# Carte de densités des accidents\n",
    "La carte de densité permet d'identifier les zone les plus denses en accidents, ici l'on peut voir un analysant la carte que les zone les plus dense sous bel et bien les grande ville comme Paris. Et si l'on zoom suffisament on peut identifier que les zone étant les plus propices aux accidents sont les intersections."
   ]
  },
  {
   "cell_type": "code",
   "execution_count": null,
   "metadata": {},
   "outputs": [],
   "source": [
    "def density_map(df: pd.DataFrame, params: dict = dict()):\n",
    "    \"\"\"\n",
    "    Create a density map (heat map)\n",
    "    \"\"\"\n",
    "    density_params = dict(\n",
    "        lat=\"lat\",\n",
    "        lon=\"long\",\n",
    "        radius=5,\n",
    "        mapbox_style=\"open-street-map\",\n",
    "        zoom=5,\n",
    "        height=1000\n",
    "    )\n",
    "\n",
    "    fig = px.density_mapbox(\n",
    "        df,\n",
    "        **density_params,\n",
    "        **params\n",
    "    )\n",
    "\n",
    "    fig.update_layout(margin={\"r\": 0, \"t\": 0, \"l\": 0, \"b\": 0})\n",
    "    fig.show(renderer=\"notebook\")"
   ]
  },
  {
   "cell_type": "code",
   "execution_count": null,
   "metadata": {},
   "outputs": [],
   "source": [
    "density_map(france)"
   ]
  },
  {
   "cell_type": "markdown",
   "metadata": {},
   "source": [
    "# Carte de tous les accidents\n",
    "Cette carte permet d'identifier individuellement les accidents de notre dataframe, grâce à cette carte on peut identifier les anomalies où les accidents ne se sont pas dérouler en France mais qui sont pourtant dans notre jeu de données."
   ]
  },
  {
   "cell_type": "code",
   "execution_count": null,
   "metadata": {},
   "outputs": [],
   "source": [
    "def scatter_map(df: pd.DataFrame, params: dict = dict()):\n",
    "    \"\"\"\n",
    "    Create a scatter map (each dot represent an object)\n",
    "    \"\"\"\n",
    "    scatter_params = dict(\n",
    "        lat=\"lat\",\n",
    "        lon=\"long\",\n",
    "        hover_data=[\"an\", \"mois\", \"jour\", \"adr\", \"dep\", \"Num_Acc\", \"cc\", \"name\", \"admin1\", \"admin2\"],\n",
    "        color_discrete_sequence=[\"fuchsia\"],\n",
    "        mapbox_style=\"open-street-map\",\n",
    "        zoom=5,\n",
    "        height=1000\n",
    "    )\n",
    "\n",
    "    fig = px.scatter_mapbox(\n",
    "        df,\n",
    "        **scatter_params,\n",
    "        **params\n",
    "    )\n",
    "\n",
    "    fig.update_layout(margin={\"r\": 0, \"t\": 0, \"l\": 0, \"b\": 0})\n",
    "    fig.show(renderer=\"notebook\")"
   ]
  },
  {
   "cell_type": "code",
   "execution_count": null,
   "metadata": {},
   "outputs": [],
   "source": [
    "scatter_map(france)"
   ]
  },
  {
   "cell_type": "markdown",
   "metadata": {},
   "source": [
    "# Carte des départements\n",
    "Cette représentation est intéressant afin d'isoler les densité d'une certaine quantité par départements. Ici l'on affiche la densité d'accident par département, qui est représenter par une couleur allant du bleu au jaune, respectivement pour une petite et grande densité d'accidents."
   ]
  },
  {
   "cell_type": "code",
   "execution_count": null,
   "metadata": {},
   "outputs": [],
   "source": [
    "def dep_map(df, params=dict()):\n",
    "    \"\"\"\n",
    "    Create a France departement map, with a color that represents a density\n",
    "    \"\"\"\n",
    "    fr = gpd.read_file(\"datas/departements.geojson\")\n",
    "\n",
    "    choropleth_params = dict(\n",
    "        geojson=fr,\n",
    "        locations=\"dep\",\n",
    "        color=\"count\",\n",
    "        mapbox_style=\"carto-positron\",\n",
    "        featureidkey=\"properties.dep\",\n",
    "        zoom=5,\n",
    "        center={\"lat\": 46, \"lon\": 2},\n",
    "        opacity=0.5,\n",
    "        labels={\"value\": \"Nombre d'accidents\"},\n",
    "        height=1000\n",
    "    )\n",
    "\n",
    "    fig = px.choropleth_mapbox(\n",
    "        df,\n",
    "        **choropleth_params,\n",
    "        **params\n",
    "    )\n",
    "\n",
    "    fig.update_layout(margin={\"r\":0,\"t\":0,\"l\":0,\"b\":0})\n",
    "    fig.show(renderer=\"notebook\")"
   ]
  },
  {
   "cell_type": "code",
   "execution_count": null,
   "metadata": {},
   "outputs": [],
   "source": [
    "dep_count = france.dep.value_counts().reset_index()\n",
    "dep_count.columns = [\"dep\", \"count\"]\n",
    "dep_count.dep /= 10\n",
    "\n",
    "dep_map(dep_count)"
   ]
  },
  {
   "cell_type": "markdown",
   "metadata": {},
   "source": [
    "# Fonction créatrices des graphiques d'évolution\n",
    "Il serait maintenant intéressant de représenter une évolution de ces carte en fonction d'un paramètre, les fonctions suivantes génèrent une map munit d'un slider afin de connaître cette évolution."
   ]
  },
  {
   "cell_type": "code",
   "execution_count": null,
   "metadata": {},
   "outputs": [],
   "source": [
    "def dep_evolution(field: str):\n",
    "    \"\"\"\n",
    "    Create a France departement map, with a variable value that depends on a field\n",
    "    \"\"\"\n",
    "    df_accident_month_dep = france.groupby([field, \"dep\"]).count()[\"Num_Acc\"].reset_index()\n",
    "    df_accident_month_dep.columns = [field, \"dep\", \"count\"]\n",
    "    df_accident_month_dep.dep /= 10\n",
    "    \n",
    "    dep_map(\n",
    "        df_accident_month_dep,\n",
    "        dict(animation_frame=field)\n",
    "    )\n",
    "\n",
    "def scatter_evolution(field: str):\n",
    "    \"\"\"\n",
    "    Create scatter map, with a variable value that depends on a field\n",
    "    \"\"\"\n",
    "    scatter_map(france, dict(animation_frame=field))\n",
    "\n",
    "def density_evolution(field: str):\n",
    "    \"\"\"\n",
    "    Create density map, with a variable value that depends on a field\n",
    "    \"\"\"\n",
    "    density_map(france, dict(animation_frame=field))\n",
    "\n",
    "def pie(df: pd.DataFrame, column: str, title: str = None):\n",
    "    \"\"\"\n",
    "    Create a pie chart from a specific column of a dataframe\n",
    "    \"\"\"\n",
    "    data = df[column].value_counts() / len(df)\n",
    "    \n",
    "    fig = px.pie(\n",
    "        data,\n",
    "        title=column if title == None else title,\n",
    "        values=data,\n",
    "        names=data.index\n",
    "    )\n",
    "\n",
    "    fig.update_traces(textposition=\"inside\", textinfo=\"percent+label\")\n",
    "\n",
    "    return fig.show()"
   ]
  },
  {
   "cell_type": "markdown",
   "metadata": {},
   "source": [
    "# Evolution de la carte en fonction des mois\n",
    "Il est important d'également connaître la répartition des accidents pour chacun des mois, afin de bien interpréter certaines graphique de map, comme la représentation par département qui nous permet pas de connaitre la répartition des accidents par mois. Cela est moins le cas pour une map de type \"scatter\" car on identifi la répartition des mois en comptant le nombre de points (ce qui se fait de manière plutôt implicite dans notre cerveau)"
   ]
  },
  {
   "cell_type": "code",
   "execution_count": null,
   "metadata": {},
   "outputs": [],
   "source": [
    "pie(france, \"mois\", \"Répartition des mois\")"
   ]
  },
  {
   "cell_type": "code",
   "execution_count": null,
   "metadata": {},
   "outputs": [],
   "source": [
    "dep_evolution(\"mois\")"
   ]
  },
  {
   "cell_type": "code",
   "execution_count": null,
   "metadata": {},
   "outputs": [],
   "source": [
    "scatter_evolution(\"mois\")"
   ]
  },
  {
   "cell_type": "code",
   "execution_count": null,
   "metadata": {},
   "outputs": [],
   "source": [
    "density_evolution(\"mois\")"
   ]
  },
  {
   "cell_type": "markdown",
   "metadata": {},
   "source": [
    "# Evolution de la carte durant les années"
   ]
  },
  {
   "cell_type": "code",
   "execution_count": null,
   "metadata": {},
   "outputs": [],
   "source": [
    "pie(france, \"an\", \"Répartition des années\")"
   ]
  },
  {
   "cell_type": "code",
   "execution_count": null,
   "metadata": {},
   "outputs": [],
   "source": [
    "dep_evolution(\"an\")"
   ]
  },
  {
   "cell_type": "code",
   "execution_count": null,
   "metadata": {},
   "outputs": [],
   "source": [
    "scatter_evolution(\"an\")"
   ]
  },
  {
   "cell_type": "code",
   "execution_count": null,
   "metadata": {},
   "outputs": [],
   "source": [
    "density_evolution(\"an\")"
   ]
  },
  {
   "cell_type": "markdown",
   "metadata": {},
   "source": [
    "# Carte en fonction des conditions lumineuses"
   ]
  },
  {
   "cell_type": "code",
   "execution_count": null,
   "metadata": {},
   "outputs": [],
   "source": [
    "pie(france, \"lum_str\", \"Répartition des conditions lumineuses\")"
   ]
  },
  {
   "cell_type": "code",
   "execution_count": null,
   "metadata": {},
   "outputs": [],
   "source": [
    "density_evolution(\"lum_str\")"
   ]
  },
  {
   "cell_type": "code",
   "execution_count": null,
   "metadata": {},
   "outputs": [],
   "source": [
    "scatter_evolution(\"lum_str\")"
   ]
  }
 ],
 "metadata": {
  "interpreter": {
   "hash": "919eb0904b72c37e8d6c7e3b2f7b6f162c89cafcc297fba09b2d10c79c52f5eb"
  },
  "kernelspec": {
   "display_name": "Python 3.8.8 64-bit ('base': conda)",
   "name": "python3"
  },
  "language_info": {
   "codemirror_mode": {
    "name": "ipython",
    "version": 3
   },
   "file_extension": ".py",
   "mimetype": "text/x-python",
   "name": "python",
   "nbconvert_exporter": "python",
   "pygments_lexer": "ipython3",
   "version": "3.8.12"
  },
  "orig_nbformat": 4
 },
 "nbformat": 4,
 "nbformat_minor": 2
}
